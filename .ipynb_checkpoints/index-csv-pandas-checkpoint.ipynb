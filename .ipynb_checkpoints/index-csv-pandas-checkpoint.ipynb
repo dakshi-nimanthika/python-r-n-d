{
 "cells": [
  {
   "cell_type": "code",
   "execution_count": 1,
   "metadata": {},
   "outputs": [
    {
     "name": "stdin",
     "output_type": "stream",
     "text": [
      "Enter Origin (default \"BUTLER, IN\") \n",
      "Enter Destination  (default \"ARBELA, MS\") \n",
      "Enter Route (default \"CSXT-BRKWA-CAGY\") \n"
     ]
    }
   ],
   "source": [
    "import csv\n",
    "import statistics\n",
    "import numpy as np\n",
    "import pandas as pd\n",
    "# pd.__version__\n",
    "# pd.show_versions()\n",
    "# Insert the user input origin, destination, route  using folowing commands\n",
    "\n",
    "selectedOrigin = input('Enter Origin (default \"BUTLER, IN\")')    \n",
    "selectedDestination = input('Enter Destination  (default \"ARBELA, MS\")')  \n",
    "selectedRoute = input('Enter Route (default \"CSXT-BRKWA-CAGY\")')\n",
    "\n",
    "# If the user didnt input anything the values will assigned to the below mention  origin, destination and route.\n",
    "\n",
    "if selectedOrigin == '':\n",
    "    selectedOrigin = \"BUTLER, IN\"\n",
    "    \n",
    "if  selectedDestination == '':\n",
    "    selectedDestination = \"ARBELA, MS\"\n",
    "\n",
    "if  selectedRoute == '':\n",
    "    selectedRoute = \"CSXT-BRKWA-CAGY\" \n"
   ]
  },
  {
   "cell_type": "code",
   "execution_count": 41,
   "metadata": {},
   "outputs": [
    {
     "name": "stdout",
     "output_type": "stream",
     "text": [
      "=== higher  ===\n",
      " 19.8\n",
      "=== lower  ===\n",
      " 15.41\n",
      "=== Inter Quartile range  ===\n",
      " 4.390000000000001\n",
      "=== Original Data Set  ===\n",
      " [4.27, 8.89, 10.05, 12.56, 12.62, 13.43, 13.47, 13.55, 13.64, 13.87, 14.17, 14.27, 14.5, 14.5, 14.57, 15.3, 15.41, 15.43, 15.45, 15.51, 15.76, 15.8, 15.93, 16.0, 16.04, 16.19, 16.21, 16.53, 16.73, 16.86, 17.1, 17.19, 17.57, 17.59, 17.67, 17.93, 18.09, 18.54, 18.55, 18.58, 18.82, 18.83, 19.43, 19.49, 19.6, 19.6, 19.69, 19.73, 19.8, 20.1, 20.43, 20.72, 20.95, 21.67, 22.65, 22.78, 23.26, 23.62, 24.33, 26.01, 26.91, 26.92, 36.69, 40.26, 50.1]\n",
      "=== Data Set without Outliers ===\n",
      " [12.56, 12.62, 13.43, 13.47, 13.55, 13.64, 13.87, 14.17, 14.27, 14.5, 14.5, 14.57, 15.3, 15.41, 15.43, 15.45, 15.51, 15.76, 15.8, 15.93, 16.0, 16.04, 16.19, 16.21, 16.53, 16.73, 16.86, 17.1, 17.19, 17.57, 17.59, 17.67, 17.93, 18.09, 18.54, 18.55, 18.58, 18.82, 18.83, 19.43, 19.49, 19.6, 19.6, 19.69, 19.73, 19.8, 20.1, 20.43, 20.72, 20.95, 21.67, 22.65, 22.78, 23.26, 23.62, 24.33]\n",
      "=== New ETA from quaritle array ========= \n",
      " 17.48\n"
     ]
    }
   ],
   "source": [
    "df = pd.read_csv('data.csv')\n",
    "#print(df.head(1))\n",
    "#print(df.describe())\n",
    "\n",
    "#tail = df.tail()\n",
    "#desc = df.describe()\n",
    "\n",
    "#pd.DataFrame(df.head(15))\n",
    "#arrTimes = df['Time'].tolist();\n",
    "#print(arrTimes)\n",
    "#print(selectedOrigin)\n",
    "#print(selectedDestination)\n",
    "#print(selectedRoute)\n",
    "\n",
    "filterOrigin = df[\"Origin\"]==selectedOrigin\n",
    "  \n",
    "filterDestination = df[\"Destination\"]==selectedDestination\n",
    "\n",
    "filterRoute = df[\"Route\"]==selectedRoute\n",
    "\n",
    "arrFilteredTimes = df[filterOrigin & filterDestination & filterRoute].sort_values(by=['Time'])\n",
    "arrayTime = arrFilteredTimes['Time']\n",
    "#print(arrTimes.describe())\n",
    "\n",
    "\n",
    "arrayTimeLength = arrayTime.count()\n",
    "\n",
    "if arrayTimeLength > 0 and arrayTimeLength < 5:\n",
    "    \n",
    "    print('=== New ETA (when sample size less than 5) ===', round(statistics.mean(arrayTime),2))\n",
    "\n",
    "# If the sizee of the data set  is greater than 5 and less than 30 \n",
    "# then first sort the array and  remove 25% from the both end \n",
    "# and calculated the  mean vallue of the data as the New Eta\n",
    "\n",
    "elif arrayTimeLength > 5 and arrayTimeLength < 30:\n",
    "  \n",
    "    sortedArray = sorted(arrayTime)\n",
    "  \n",
    "    index25 = int(arrayTimeLength * 0.25)\n",
    "    index75 = int(arrayTimeLength * 0.75)\n",
    "##    print('=== index 25  ===\\n', index25)\n",
    "##    print('=== index 75  ===\\n', index75)\n",
    "##    print('=== index 25  ===\\n', sortedArray[index25])\n",
    "##    print('=== index 75  ===\\n', sortedArray[index75])\n",
    "\n",
    "    array25To75 = []\n",
    "    for i in range(index25,index75):\n",
    "            array25To75.append(sortedArray[i])\n",
    "            \n",
    "    print('=== Original Data Set  ===\\n', sortedArray)\n",
    "    print('=== 25%-75% array Data Set  ===\\n', array25To75)\n",
    "    print('=== New ETA 25%-75% array  ===', round(statistics.mean(array25To75),2))\n",
    "    \n",
    "# If the sizee of the data set  is greater than 30 \n",
    "# then  first sort the array and remove outliers from the data set\n",
    "# which are lie outside i.e  1.5* interquartile range away from the mean\n",
    "# and take the mean value as the New Eta\n",
    "elif arrayTimeLength > 30:\n",
    "    \n",
    "    sortedArray = sorted(arrayTime)\n",
    "\n",
    "    higher = np.percentile(sortedArray, 75, interpolation='higher')\n",
    "    lower = np.percentile(sortedArray, 25, interpolation='lower')\n",
    "   \n",
    "    qRange =  higher - lower\n",
    "\n",
    "    print('=== higher  ===\\n', higher)\n",
    "    print('=== lower  ===\\n', lower)\n",
    "    print('=== Inter Quartile range  ===\\n', qRange)\n",
    "    \n",
    "    mean = statistics.mean(sortedArray)\n",
    "    \n",
    "    arrayQuartile = []\n",
    "    \n",
    "    q1 = int( mean - (1.5 * qRange))\n",
    "    q2 = int( mean + (1.5 * qRange))\n",
    "    \n",
    "    for i in sortedArray:\n",
    "        if i >= q1 and i <= q2:\n",
    "            arrayQuartile.append(i)              \n",
    "\n",
    "    print('=== Original Data Set  ===\\n', sortedArray)\n",
    "    print('=== Data Set without Outliers ===\\n', arrayQuartile)\n",
    "    print('=== New ETA from quaritle array ========= \\n', round(statistics.mean(arrayQuartile),2))\n",
    "\n",
    "else:\n",
    "    print('=== There is no raw data set for selected inputs =========')"
   ]
  },
  {
   "cell_type": "code",
   "execution_count": 23,
   "metadata": {},
   "outputs": [],
   "source": [
    "#pd.DataFrame(desc)"
   ]
  },
  {
   "cell_type": "code",
   "execution_count": null,
   "metadata": {},
   "outputs": [],
   "source": [
    "#pd.DataFrame(tail)"
   ]
  }
 ],
 "metadata": {
  "kernelspec": {
   "display_name": "Python 3",
   "language": "python",
   "name": "python3"
  },
  "language_info": {
   "codemirror_mode": {
    "name": "ipython",
    "version": 3
   },
   "file_extension": ".py",
   "mimetype": "text/x-python",
   "name": "python",
   "nbconvert_exporter": "python",
   "pygments_lexer": "ipython3",
   "version": "3.7.4"
  }
 },
 "nbformat": 4,
 "nbformat_minor": 4
}
